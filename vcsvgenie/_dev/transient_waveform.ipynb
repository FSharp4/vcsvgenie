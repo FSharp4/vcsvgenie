{
 "cells": [
  {
   "cell_type": "code",
   "execution_count": null,
   "metadata": {},
   "outputs": [],
   "source": [
    "from vcsvgenie.read import read_vcsv\n",
    "from vcsvgenie.transient_waveform import construct_waveforms, TransientResultSpecification\n",
    "from pathlib import Path"
   ]
  },
  {
   "cell_type": "code",
   "execution_count": null,
   "metadata": {},
   "outputs": [],
   "source": [
    "EXAMPLE_VCSV = Path(\"DFF_SR_1X_ExplicitDelayBench.vcsv\")\n",
    "dataframe, titles = read_vcsv(EXAMPLE_VCSV)\n",
    "waveforms = construct_waveforms(dataframe, titles)"
   ]
  },
  {
   "cell_type": "code",
   "execution_count": null,
   "metadata": {},
   "outputs": [],
   "source": [
    "SPECIFICATION = TransientResultSpecification(\n",
    "    inputs = [\n",
    "        '/RESET', '/D', '/Clk'\n",
    "    ],\n",
    "    outputs = [\n",
    "        '/notClk', '/D1i', '/middle', '/D1iCy', '/D2i', '/Q', '/D2iCy'\n",
    "    ]\n",
    ")"
   ]
  },
  {
   "cell_type": "code",
   "execution_count": null,
   "metadata": {},
   "outputs": [],
   "source": [
    "results = SPECIFICATION.interpret(waveforms)\n",
    "results.plot(separate=True)"
   ]
  }
 ],
 "metadata": {
  "kernelspec": {
   "display_name": "ee477",
   "language": "python",
   "name": "python3"
  },
  "language_info": {
   "codemirror_mode": {
    "name": "ipython",
    "version": 3
   },
   "file_extension": ".py",
   "mimetype": "text/x-python",
   "name": "python",
   "nbconvert_exporter": "python",
   "pygments_lexer": "ipython3",
   "version": "3.11.10"
  }
 },
 "nbformat": 4,
 "nbformat_minor": 2
}
