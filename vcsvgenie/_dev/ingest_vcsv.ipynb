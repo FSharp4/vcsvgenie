{
 "cells": [
  {
   "cell_type": "code",
   "execution_count": null,
   "metadata": {},
   "outputs": [],
   "source": [
    "import pandas as pd\n",
    "import numpy as np\n",
    "from matplotlib import pyplot as plt\n",
    "from pathlib import Path\n",
    "from io import StringIO\n",
    "import os"
   ]
  },
  {
   "cell_type": "code",
   "execution_count": null,
   "metadata": {},
   "outputs": [],
   "source": [
    "EXAMPLE_VCSV = Path(\"DFF_SR_1X_ExplicitDelayBench.vcsv\").read_text().splitlines()"
   ]
  },
  {
   "cell_type": "code",
   "execution_count": null,
   "metadata": {},
   "outputs": [],
   "source": [
    "TITLE_HEADER_IDX = 1\n",
    "BEGIN_DATA_LINE = 6"
   ]
  },
  {
   "cell_type": "code",
   "execution_count": null,
   "metadata": {},
   "outputs": [],
   "source": [
    "titles = EXAMPLE_VCSV[TITLE_HEADER_IDX][1:].split(\",;\")\n",
    "print(titles)"
   ]
  },
  {
   "cell_type": "code",
   "execution_count": null,
   "metadata": {},
   "outputs": [],
   "source": [
    "series = []\n",
    "for title in titles:\n",
    "    series.append(f\"{title} X\")\n",
    "    series.append(f\"{title} Y\")\n",
    "\n",
    "print(series)"
   ]
  },
  {
   "cell_type": "code",
   "execution_count": null,
   "metadata": {},
   "outputs": [],
   "source": [
    "print(EXAMPLE_VCSV[BEGIN_DATA_LINE])"
   ]
  },
  {
   "cell_type": "code",
   "execution_count": null,
   "metadata": {},
   "outputs": [],
   "source": [
    "filelike = StringIO(os.linesep.join(EXAMPLE_VCSV[BEGIN_DATA_LINE:]))\n",
    "dataframe = pd.read_csv(filelike, names=series)\n",
    "print(dataframe[:10])"
   ]
  },
  {
   "cell_type": "code",
   "execution_count": null,
   "metadata": {},
   "outputs": [],
   "source": [
    "test = dataframe.iloc[:, 0].to_numpy()\n",
    "print(test.dtype)"
   ]
  }
 ],
 "metadata": {
  "kernelspec": {
   "display_name": "ee477",
   "language": "python",
   "name": "python3"
  },
  "language_info": {
   "codemirror_mode": {
    "name": "ipython",
    "version": 3
   },
   "file_extension": ".py",
   "mimetype": "text/x-python",
   "name": "python",
   "nbconvert_exporter": "python",
   "pygments_lexer": "ipython3",
   "version": "3.11.10"
  }
 },
 "nbformat": 4,
 "nbformat_minor": 2
}
