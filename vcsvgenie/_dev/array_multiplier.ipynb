{
 "cells": [
  {
   "cell_type": "code",
   "execution_count": null,
   "metadata": {},
   "outputs": [],
   "source": [
    "from vcsvgenie.read import read_vcsv\n",
    "from vcsvgenie.transient_waveform import TransientResultSpecification, maximum_propagation_delays_by_category\n",
    "from vcsvgenie.waveform import construct_waveforms\n",
    "\n",
    "from pathlib import Path\n",
    "from pprint import pprint"
   ]
  },
  {
   "cell_type": "code",
   "execution_count": null,
   "metadata": {},
   "outputs": [],
   "source": [
    "VCSV_FILE = Path(\"array_multiplier_dtb.vcsv\")\n",
    "dataframe, titles = read_vcsv(VCSV_FILE)\n",
    "waveforms = construct_waveforms(dataframe, titles)"
   ]
  },
  {
   "cell_type": "code",
   "execution_count": null,
   "metadata": {},
   "outputs": [],
   "source": [
    "SPECIFICATION = TransientResultSpecification(\n",
    "    inputs=[\n",
    "        \"/comp_a<3>\",\n",
    "        \"/comp_a<2>\",\n",
    "        \"/comp_a<1>\",\n",
    "        \"/comp_a<0>\",\n",
    "        \"/comp_b<3>\",\n",
    "        \"/comp_b<2>\",\n",
    "        \"/comp_b<1>\",\n",
    "        \"/comp_b<0>\",\n",
    "    ],\n",
    "    outputs=[\n",
    "        \"/comp_z<7>\",\n",
    "        \"/comp_z<6>\",\n",
    "        \"/comp_z<5>\",\n",
    "        \"/comp_z<4>\",\n",
    "        \"/comp_z<3>\",\n",
    "        \"/comp_z<2>\",\n",
    "        \"/comp_z<1>\",\n",
    "        \"/comp_z<0>\",\n",
    "    ],\n",
    "    logic_threshold=0.5,\n",
    "    clock_period=1e-9\n",
    ")"
   ]
  },
  {
   "cell_type": "code",
   "execution_count": null,
   "metadata": {},
   "outputs": [],
   "source": [
    "SPECIFICATION.infer_buses()\n",
    "pprint(SPECIFICATION.input_buses)\n",
    "pprint(SPECIFICATION.output_buses)"
   ]
  },
  {
   "cell_type": "code",
   "execution_count": null,
   "metadata": {},
   "outputs": [],
   "source": [
    "results = SPECIFICATION.interpret(waveforms)\n",
    "results.find_transitions()\n",
    "print(results.n_intervals)\n",
    "print(results.timestamps[-1] / results.clock_period)"
   ]
  },
  {
   "cell_type": "code",
   "execution_count": null,
   "metadata": {},
   "outputs": [],
   "source": [
    "results.find_propagations()\n",
    "# averages = average_propagation_delays_by_category(results.propagations)\n",
    "# pprint(averages)\n",
    "maxima = maximum_propagation_delays_by_category(results.propagations)\n",
    "pprint(maxima)"
   ]
  },
  {
   "cell_type": "code",
   "execution_count": null,
   "metadata": {},
   "outputs": [],
   "source": [
    "results.digitize()\n",
    "results.resolve_buses()\n",
    "bus_data = results.tabulate_bus_data()\n",
    "bus_data.to_csv(\"array_multiplier_digital.csv\")\n",
    "# print(bus_data)"
   ]
  }
 ],
 "metadata": {
  "kernelspec": {
   "display_name": "vcsvgenie",
   "language": "python",
   "name": "python3"
  },
  "language_info": {
   "codemirror_mode": {
    "name": "ipython",
    "version": 3
   },
   "file_extension": ".py",
   "mimetype": "text/x-python",
   "name": "python",
   "nbconvert_exporter": "python",
   "pygments_lexer": "ipython3",
   "version": "3.12.7"
  }
 },
 "nbformat": 4,
 "nbformat_minor": 2
}
