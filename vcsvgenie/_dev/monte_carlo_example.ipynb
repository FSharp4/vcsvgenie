{
 "cells": [
  {
   "cell_type": "code",
   "metadata": {
    "ExecuteTime": {
     "end_time": "2025-04-25T07:37:44.543301Z",
     "start_time": "2025-04-25T07:37:34.170388Z"
    }
   },
   "source": [
    "from pathlib import Path\n",
    "from typing import List\n",
    "\n",
    "from matplotlib import pyplot as plt\n",
    "from matplotlib.axes import Axes\n",
    "\n",
    "import vcsvgenie.waveform\n",
    "from vcsvgenie import transient_waveform\n",
    "from vcsvgenie.read import read_vcsv"
   ],
   "outputs": [],
   "execution_count": 1
  },
  {
   "cell_type": "code",
   "metadata": {
    "ExecuteTime": {
     "end_time": "2025-04-25T07:37:44.557573Z",
     "start_time": "2025-04-25T07:37:44.552476Z"
    }
   },
   "source": [
    "SPECIFICATION = transient_waveform.TransientResultSpecification(\n",
    "    inputs=[\n",
    "        \"/comp_a<3>\", # these are the wire names in your DUT/testbench\n",
    "        \"/comp_a<2>\", # (depending on what you test)\n",
    "        \"/comp_a<1>\",\n",
    "        \"/comp_a<0>\",\n",
    "        \"/comp_b<3>\",\n",
    "        \"/comp_b<2>\",\n",
    "        \"/comp_b<1>\",\n",
    "        \"/comp_b<0>\",\n",
    "    ],\n",
    "    outputs=[\n",
    "        \"/comp_z<7>\", # they don't necessarily have to be in order\n",
    "        \"/comp_z<6>\",\n",
    "        \"/comp_z<5>\",\n",
    "        \"/comp_z<4>\",\n",
    "        \"/comp_z<3>\",\n",
    "        \"/comp_z<2>\",\n",
    "        \"/comp_z<1>\",\n",
    "        \"/comp_z<0>\",\n",
    "    ],\n",
    "    logic_threshold=0.5, # Volts\n",
    "    clock_period=1e-9 # seconds\n",
    ")\n",
    "SPECIFICATION.infer_buses() # this lets vcsvgenie recognize <> bus notation"
   ],
   "outputs": [],
   "execution_count": 2
  },
  {
   "cell_type": "code",
   "metadata": {
    "ExecuteTime": {
     "end_time": "2025-04-25T07:37:44.566729Z",
     "start_time": "2025-04-25T07:37:44.562652Z"
    }
   },
   "source": [
    "# parameters\n",
    "thres_samp = 3 # window size for asymptotic analysis regression"
   ],
   "outputs": [],
   "execution_count": 3
  },
  {
   "cell_type": "code",
   "metadata": {
    "jupyter": {
     "is_executing": true
    },
    "ExecuteTime": {
     "start_time": "2025-04-25T07:38:35.256430Z"
    }
   },
   "source": [
    "# load and parse vcsv\n",
    "VCSV_FILE_1 = Path(\"random30.vcsv\")\n",
    "df1, titles1 = read_vcsv(VCSV_FILE_1)\n",
    "waveforms1 = vcsvgenie.waveform.construct_waveforms(df1, titles1)\n",
    "results1 = SPECIFICATION.interpret(waveforms1)\n",
    "results1.find_transitions()\n",
    "results1.find_propagations()\n",
    "\n",
    "# recognize digital data\n",
    "results1.digitize()\n",
    "results1.resolve_buses()\n",
    "bus_data1 = results1.tabulate_bus_data() # Digital data for buses\n",
    "bus_data1.to_csv(\"random_30.vcsv\")       # users may peruse for verification"
   ],
   "outputs": [],
   "execution_count": null
  },
  {
   "cell_type": "code",
   "execution_count": null,
   "metadata": {},
   "outputs": [],
   "source": [
    "# delay histogram\n",
    "histogram1 = transient_waveform.delay_histogram(results1.delays, show=True)"
   ]
  },
  {
   "cell_type": "code",
   "execution_count": null,
   "metadata": {},
   "outputs": [],
   "source": [
    "maxtpd_idxes1, maxtpd1 = transient_waveform.find_max_delay_trend(results1.delays)\n",
    "\n",
    "# If the plot does not level out (converge y-value as x increases),\n",
    "# this is an indication we haven't tested enough samples\n",
    "delay_plot1 = transient_waveform.plot_max_delay_trend(maxtpd_idxes1, maxtpd1, show=False)\n",
    "delay_plot1.suptitle(\"(Cases=30)\")\n",
    "\n",
    "global_estimation1 = transient_waveform.estimate_global_critical_delay(maxtpd_idxes1, maxtpd1, thres_samp=thres_samp)\n",
    "\n",
    "# If there is a large difference between these two quantities,\n",
    "# this is another indication of insufficient samples\n",
    "print(f\"Observed max propagation delay: {maxtpd1[-1]}\")\n",
    "print(f\"Estimated global max propagation delay: {global_estimation1}\")"
   ]
  },
  {
   "cell_type": "code",
   "execution_count": null,
   "metadata": {},
   "outputs": [],
   "source": [
    "## second example:\n",
    "# load and parse vcsv\n",
    "VCSV_FILE_2 = Path(\"random100.vcsv\")\n",
    "df2, titles2 = read_vcsv(VCSV_FILE_2)\n",
    "waveforms2 = vcsvgenie.waveform.construct_waveforms(df2, titles2)\n",
    "results2 = SPECIFICATION.interpret(waveforms2)\n",
    "results2.find_transitions()\n",
    "results2.find_propagations()\n",
    "\n",
    "histogram2 = transient_waveform.delay_histogram(results2.delays, show=True)\n",
    "maxtpd_idxes2, maxtpd2 = transient_waveform.find_max_delay_trend(results2.delays)\n",
    "delay_plot2 = transient_waveform.plot_max_delay_trend(maxtpd_idxes2, maxtpd2, show=False)\n",
    "delay_plot2.suptitle(\"(Cases=100)\")\n",
    "\n",
    "global_estimation2 = transient_waveform.estimate_global_critical_delay(maxtpd_idxes2, maxtpd2, thres_samp=thres_samp)\n",
    "\n",
    "print(f\"Observed max propagation delay: {maxtpd2[-1]}\")\n",
    "print(f\"Estimated global max propagation delay: {global_estimation2}\")"
   ]
  },
  {
   "cell_type": "code",
   "execution_count": null,
   "metadata": {},
   "outputs": [],
   "source": [
    "axes: List[Axes] = []\n",
    "fig, axes = plt.subplots(ncols=1, nrows=2, figsize=(8, 12))\n",
    "# plt.title(\"Max delay trends for differently-sized MC simulations\")\n",
    "axes[0].set_title('Max delay trends for differently-sized MC simulations')\n",
    "axes[0].plot(maxtpd_idxes1, maxtpd1, marker='o', linestyle='--', label='# Test Cases=30', color='r')\n",
    "axes[1].plot(maxtpd_idxes2, maxtpd2, marker='o', linestyle='--', label='# Test Cases=100', color='b')\n",
    "for ax in axes:\n",
    "    ax.set_xlabel('Propagation delay index')\n",
    "    ax.set_ylabel('Propagation delay (s)')\n",
    "    ax.grid(visible=True, which='both', axis='both')\n",
    "    ax.legend(loc='lower right')\n",
    "\n",
    "# fig.suptitle('Max delay trends for differently-sized MC simulations')\n",
    "# plt.legend()\n",
    "plt.show()"
   ]
  }
 ],
 "metadata": {
  "kernelspec": {
   "display_name": "vcsvgenie",
   "language": "python",
   "name": "python3"
  },
  "language_info": {
   "codemirror_mode": {
    "name": "ipython",
    "version": 3
   },
   "file_extension": ".py",
   "mimetype": "text/x-python",
   "name": "python",
   "nbconvert_exporter": "python",
   "pygments_lexer": "ipython3",
   "version": "3.12.7"
  }
 },
 "nbformat": 4,
 "nbformat_minor": 2
}
